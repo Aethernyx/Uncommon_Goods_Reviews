{
 "cells": [
  {
   "cell_type": "code",
   "execution_count": 1,
   "metadata": {},
   "outputs": [],
   "source": [
    "import pandas as pd\n",
    "import numpy as np\n",
    "import matplotlib.pyplot as plt\n",
    "import seaborn as sns\n",
    "sns.set_style('darkgrid')\n",
    "\n",
    "import requests\n",
    "from bs4 import BeautifulSoup\n",
    "import re\n",
    "import selenium\n",
    "from selenium import webdriver\n",
    "from selenium.webdriver.support.ui import WebDriverWait\n",
    "from selenium.webdriver.support import expected_conditions as EC\n",
    "from selenium.webdriver.common.by import By\n",
    "from selenium.common.exceptions import TimeoutException\n",
    "from selenium.webdriver.common.keys import Keys\n",
    "import time\n",
    "\n",
    "from selenium.common.exceptions import NoSuchElementException"
   ]
  },
  {
   "cell_type": "code",
   "execution_count": 2,
   "metadata": {},
   "outputs": [],
   "source": [
    "chromedriver = '/Users/alex/Downloads/chromedriver 2'\n",
    "browser = webdriver.Chrome(chromedriver)\n",
    "#url = 'https://www.uncommongoods.com/gifts'\n",
    "#browser.get(url)\n",
    "#try:\n",
    "    #myElem = WebDriverWait(browser, 20).until(EC.presence_of_element_located((By.NAME, 'grid-card__inner')))\n",
    "    #print(\"Page is ready!\")\n",
    "#except TimeoutException:\n",
    "    #print(\"Loading took too much time!\")\n",
    "\n",
    "#respData = browser.page_source\n",
    "#soup = BeautifulSoup(respData, 'html.parser')"
   ]
  },
  {
   "cell_type": "code",
   "execution_count": 3,
   "metadata": {},
   "outputs": [],
   "source": [
    "def scroll_down():\n",
    "    body = browser.find_element_by_css_selector('body')\n",
    "    body.send_keys(Keys.PAGE_DOWN)\n",
    "    \n",
    "def get_data(url, category):\n",
    "    browser.get(url + '/' + category)\n",
    "    \n",
    "    try:\n",
    "        myElem = WebDriverWait(browser, 20).until(EC.presence_of_element_located((By.NAME, 'grid-card__inner')))\n",
    "        print(\"Page is ready!\")\n",
    "    except TimeoutException:\n",
    "        print('Loading Done')    \n",
    "    \n",
    "    all_reviews = []\n",
    "    ratings = []\n",
    "    products = []\n",
    "    reviewer_names = []\n",
    "    reviewer_countries = []\n",
    "    review_date = []\n",
    "    review_time = []\n",
    "    \n",
    "    for i in range(10):\n",
    "            scroll_down()\n",
    "            \n",
    "    respData = browser.page_source\n",
    "    soup = BeautifulSoup(respData, 'html.parser')\n",
    "    \n",
    "    product_links = soup.find_all('a', class_='a-secondary')[:-13]\n",
    "    time.sleep(2)\n",
    "    \n",
    "    product_count = 0\n",
    "\n",
    "    for i in range(len(product_links)):\n",
    "        link = url + product_links[i]['href']\n",
    "        browser.get(link)\n",
    "        for i in range(10):\n",
    "            scroll_down()\n",
    "        time.sleep(2)\n",
    "        \n",
    "        respData = browser.page_source\n",
    "        soup = BeautifulSoup(respData, 'html.parser')\n",
    "        time.sleep(2)\n",
    "\n",
    "        try:\n",
    "            product = soup.find('h1', itemprop='name').text\n",
    "        except AttributeError:\n",
    "            pass\n",
    "        \n",
    "        reviews = soup.find_all('p', class_='body-small', itemprop='reviewBody')\n",
    "        for j in range(len(reviews)):\n",
    "            all_reviews.append(reviews[j].text)\n",
    "            ratings.append(soup.find_all('meta', itemprop='ratingValue')[j]['content'])\n",
    "            products.append(product)\n",
    "            reviewer_names.append(soup.find_all('span', style='white-space:nowrap;', itemprop='author')[j].text)\n",
    "            reviewer_countries.append(\n",
    "                soup.find_all('span', style='white-space:nowrap;', itemprop = lambda x: x != 'author')[j].text)\n",
    "            review_date.append(soup.find_all('meta', itemprop='datePublished')[j]['content'][:10])\n",
    "            review_time.append(soup.find_all('meta', itemprop='datePublished')[j]['content'][11:-5])\n",
    "        \n",
    "        product_count += 1\n",
    "        browser.back()\n",
    "\n",
    "        if product_count % 5 == 0:\n",
    "            print('Gathered Reviews for 5 Products')\n",
    "        if product_count > 50:\n",
    "            break\n",
    "            \n",
    "    df = pd.DataFrame()\n",
    "    df['Product'] = products\n",
    "    df['Reviewer_Name'] = reviewer_names\n",
    "    df['Reviewer_Country'] = reviewer_countries\n",
    "    df['Review'] = all_reviews\n",
    "    df['Review_Date'] = review_date\n",
    "    df['Review_Time'] = review_time\n",
    "    df['Rating'] = ratings\n",
    "    \n",
    "\n",
    "    return df"
   ]
  },
  {
   "cell_type": "code",
   "execution_count": 4,
   "metadata": {},
   "outputs": [
    {
     "name": "stdout",
     "output_type": "stream",
     "text": [
      "Loading Done\n",
      "Gathered Reviews for 5 Products\n",
      "Gathered Reviews for 5 Products\n",
      "Gathered Reviews for 5 Products\n",
      "Gathered Reviews for 5 Products\n",
      "Gathered Reviews for 5 Products\n",
      "Gathered Reviews for 5 Products\n",
      "Gathered Reviews for 5 Products\n",
      "Gathered Reviews for 5 Products\n",
      "Gathered Reviews for 5 Products\n",
      "Gathered Reviews for 5 Products\n"
     ]
    }
   ],
   "source": [
    "url = 'https://www.uncommongoods.com'\n",
    "category = 'gifts'\n",
    "\n",
    "data = get_data(url, category)"
   ]
  },
  {
   "cell_type": "code",
   "execution_count": 5,
   "metadata": {},
   "outputs": [],
   "source": [
    "data.to_csv('UG_Review_Data.csv')"
   ]
  }
 ],
 "metadata": {
  "kernelspec": {
   "display_name": "Python 3",
   "language": "python",
   "name": "python3"
  },
  "language_info": {
   "codemirror_mode": {
    "name": "ipython",
    "version": 3
   },
   "file_extension": ".py",
   "mimetype": "text/x-python",
   "name": "python",
   "nbconvert_exporter": "python",
   "pygments_lexer": "ipython3",
   "version": "3.8.0"
  }
 },
 "nbformat": 4,
 "nbformat_minor": 2
}
